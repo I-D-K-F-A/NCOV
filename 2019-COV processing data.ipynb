{
 "cells": [
  {
   "cell_type": "code",
   "execution_count": 50,
   "metadata": {},
   "outputs": [],
   "source": [
    "import pandas as pd\n",
    "import csv\n",
    "url='https://docs.google.com/spreadsheets/d/18X1VM1671d99V_yd-cnUI1j8oSG2ZgfU_q1HfOizErA/export?format=csv&id'\n"
   ]
  },
  {
   "cell_type": "code",
   "execution_count": 51,
   "metadata": {},
   "outputs": [],
   "source": [
    "data=pd.read_csv(url)\n",
    "data=data.fillna(0)\n",
    "data.head()\n",
    "\n",
    "with open('table.csv', 'w', newline='', encoding='utf-8') as csvfile:\n",
    "    datawriter = csv.writer(csvfile, delimiter='&', quotechar=' ', quoting=csv.QUOTE_MINIMAL)\n",
    "    "
   ]
  },
  {
   "cell_type": "code",
   "execution_count": 52,
   "metadata": {},
   "outputs": [],
   "source": [
    "col_name=data.columns\n",
    "n_col=len(data.columns)\n",
    "date_list=[]\n",
    "init=4\n",
    "n_range=int((n_col-5)/2)"
   ]
  },
  {
   "cell_type": "code",
   "execution_count": 53,
   "metadata": {},
   "outputs": [
    {
     "name": "stdout",
     "output_type": "stream",
     "text": [
      "    latitude  longitude  confirmedcases_14-02-2020  deaths_14-02-2020\n",
      "0   -32.3300   146.7700                          4                0.0\n",
      "1   -22.9000   144.7000                          5                0.0\n",
      "2   -29.4900   135.9500                          2                0.0\n",
      "3   -36.9800   144.6400                          4                0.0\n",
      "4    50.8360     4.3753                          1                0.0\n",
      "..       ...        ...                        ...                ...\n",
      "95   10.7762   106.8245                          3                0.0\n",
      "96   12.2950   109.0120                          1                0.0\n",
      "97   20.0480   105.3980                          1                0.0\n",
      "98   21.3669   105.5730                         10                0.0\n",
      "99   29.9790    31.5870                          1                0.0\n",
      "\n",
      "[100 rows x 4 columns]\n"
     ]
    }
   ],
   "source": [
    "for i in range(n_range):\n",
    "    col_case=init+1\n",
    "    col_dead=col_case+1\n",
    "    init=col_case+1\n",
    "    df_split=data[['latitude','longitude',col_name[col_case],col_name[col_dead]]]\n",
    "    df=df_split[(df_split[col_name[col_case]]!=0)]\n",
    "    lat=df['latitude']\n",
    "    lon=df['longitude']\n",
    "    case=df[df.columns[-2]].astype(int)\n",
    "    deaths=df[df.columns[-1]].astype(int)\n",
    "    \n",
    "    #date_label=deaths.name[7:17]\n",
    "    #date_list.append(date_label)\n",
    "    \n",
    "print(df)\n",
    "dat2 = df\n",
    "dat2.to_csv('table.csv', index = None, encoding = 'utf-8', sep='&')"
   ]
  },
  {
   "cell_type": "code",
   "execution_count": null,
   "metadata": {},
   "outputs": [],
   "source": []
  },
  {
   "cell_type": "code",
   "execution_count": null,
   "metadata": {},
   "outputs": [],
   "source": []
  }
 ],
 "metadata": {
  "kernelspec": {
   "display_name": "Python 3",
   "language": "python",
   "name": "python3"
  },
  "language_info": {
   "codemirror_mode": {
    "name": "ipython",
    "version": 3
   },
   "file_extension": ".py",
   "mimetype": "text/x-python",
   "name": "python",
   "nbconvert_exporter": "python",
   "pygments_lexer": "ipython3",
   "version": "3.7.4"
  }
 },
 "nbformat": 4,
 "nbformat_minor": 2
}
