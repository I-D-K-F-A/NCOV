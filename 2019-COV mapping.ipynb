{
 "cells": [
  {
   "cell_type": "code",
   "execution_count": 17,
   "metadata": {},
   "outputs": [],
   "source": [
    "import folium\n",
    "from folium import plugins\n",
    "import pandas as pd\n",
    "import ftplib\n",
    "host = 'data-lab.kremppi.com'\n",
    "ftp_user = ''\n",
    "ftp_password = ''"
   ]
  },
  {
   "cell_type": "code",
   "execution_count": 15,
   "metadata": {},
   "outputs": [],
   "source": [
    "data = pd.read_csv(\"table.csv\", sep='&')\n",
    "m = folium.Map(location=[46.35, 48.05], zoom_start=2)\n",
    "\n",
    "for index, row in data.iterrows():\n",
    "    folium.CircleMarker([row['latitude'], row['longitude']],\n",
    "                        radius=2,\n",
    "                        popup='Confirmed cases: ' + str(row['confirmedcases_14-02-2020']) + '\\n Confirmed deaths: ' + str(row['deaths_14-02-2020']),\n",
    "                        fill_color=\"#3db7e4\", \n",
    "                       ).add_to(m)\n",
    "\n",
    "fog = data[['latitude', 'longitude']]  \n",
    "m.add_child(plugins.HeatMap(fog, radius=25))\n",
    "m.save('2019-CoV.html')"
   ]
  },
  {
   "cell_type": "code",
   "execution_count": 18,
   "metadata": {},
   "outputs": [
    {
     "data": {
      "text/plain": [
       "'226 Transfer complete'"
      ]
     },
     "execution_count": 18,
     "metadata": {},
     "output_type": "execute_result"
    }
   ],
   "source": [
    "ftp = ftplib.FTP(host, ftp_user, ftp_password)\n",
    "\n",
    "file = '2019-CoV.html'\n",
    "file_to_upload = open(file, 'rb')\n",
    "ftp.storbinary('STOR www/data-lab.kremppi.com/' + file, file_to_upload)"
   ]
  },
  {
   "cell_type": "code",
   "execution_count": null,
   "metadata": {},
   "outputs": [],
   "source": []
  }
 ],
 "metadata": {
  "kernelspec": {
   "display_name": "Python 3",
   "language": "python",
   "name": "python3"
  },
  "language_info": {
   "codemirror_mode": {
    "name": "ipython",
    "version": 3
   },
   "file_extension": ".py",
   "mimetype": "text/x-python",
   "name": "python",
   "nbconvert_exporter": "python",
   "pygments_lexer": "ipython3",
   "version": "3.7.4"
  }
 },
 "nbformat": 4,
 "nbformat_minor": 2
}
